{
 "cells": [
  {
   "cell_type": "code",
   "execution_count": 2,
   "metadata": {},
   "outputs": [],
   "source": [
    "from collections import defaultdict\n",
    "user_ratings_count = {}\n",
    "def mapper(line):\n",
    "    userid, movieid, rating, timestamp = map(int, line.strip().split('\\t'))\n",
    "\n",
    "    # Tính toán số lần đánh giá của userid\n",
    "    user_ratings_count[userid] = user_ratings_count.get(userid, 0) + 1\n",
    "\n",
    "    # Sử dụng số lần đánh giá của userid để quyết định liệu dữ liệu này thuộc tập train hay test\n",
    "    is_train = user_ratings_count[userid] % 5 < 4  # 80% là tập train\n",
    "\n",
    "    if is_train:\n",
    "        yield (userid, ('train', movieid, rating, timestamp))\n",
    "    else:\n",
    "        yield (userid, ('test', movieid, rating, timestamp))\n",
    "\n",
    "\n",
    "def reducer(key, values):\n",
    "    train_data = []\n",
    "    test_data = []\n",
    "\n",
    "    for value_type, movieid, rating, timestamp in values:\n",
    "        if value_type == 'train':\n",
    "            train_data.append((movieid, rating,timestamp))\n",
    "        elif value_type == 'test':\n",
    "            test_data.append((movieid, rating, timestamp))\n",
    "\n",
    "    yield (key, {'trainData': train_data, 'testData': test_data})\n",
    "\n",
    "\n",
    "# Đọc dữ liệu từ tập dữ liệu\n",
    "input_data = open('./ml-100k/u.data', 'r')  # Thay đổi đường dẫn tới file dữ liệu\n",
    "lines = input_data.readlines()\n",
    "\n",
    "# Chạy MapReduce\n",
    "mapped_data = [mapper(line) for line in lines]\n",
    "flattened_mapped_data = [item for sublist in mapped_data for item in sublist]\n",
    "grouped_data = defaultdict(list)\n",
    "\n",
    "for key, value in flattened_mapped_data:\n",
    "    grouped_data[key].append(value)\n",
    "\n",
    "result = [item for sublist in [reducer(key, grouped_data[key]) for key in grouped_data] for item in sublist]\n",
    "\n",
    "\n",
    "train = []\n",
    "test = []\n",
    "# In ra kết quả\n",
    "for userid, data in result:\n",
    "    for movieid, rating, timestamp in data[\"trainData\"]:\n",
    "        train.append((userid, movieid, rating, timestamp))\n",
    "    for movieid, rating, timestamp in data[\"testData\"]:\n",
    "        test.append((userid, movieid, rating, timestamp))\n",
    "\n",
    "# Đường dẫn đến file train\n",
    "text_file_path = \"train.txt\"\n",
    "\n",
    "# Ghi list vào file văn bản\n",
    "with open(text_file_path, mode='w') as file:\n",
    "    for item in train:\n",
    "        file.write(f\"{item}\\n\")\n",
    "\n",
    "print(f\"File văn bản đã được tạo tại: {text_file_path}\")\n",
    "# Đường dẫn đến file test\n",
    "text_file_path = \"test.txt\"\n",
    "\n",
    "# Ghi list vào file văn bản\n",
    "with open(text_file_path, mode='w') as file:\n",
    "    for item in test:\n",
    "        file.write(f\"{item}\\n\")\n",
    "\n",
    "print(f\"File văn bản đã được tạo tại: {text_file_path}\")"
   ]
  },
  {
   "cell_type": "code",
   "execution_count": 5,
   "metadata": {},
   "outputs": [],
   "source": [
    "# Đọc dữ liệu từ tập dữ liệu\n",
    "input_data = open('./ml-100k/u.data', 'r')  # Thay đổi đường dẫn tới file dữ liệu\n",
    "lines = input_data.readlines()\n",
    "\n",
    "# Chạy MapReduce\n",
    "mapped_data = [mapper(line) for line in lines]\n",
    "flattened_mapped_data = [item for sublist in mapped_data for item in sublist]\n",
    "grouped_data = defaultdict(list)\n",
    "\n",
    "for key, value in flattened_mapped_data:\n",
    "    grouped_data[key].append(value)\n",
    "\n",
    "result = [item for sublist in [reducer(key, grouped_data[key]) for key in grouped_data] for item in sublist]\n",
    "\n",
    "\n",
    "train = []\n",
    "test = []\n",
    "# In ra kết quả\n",
    "for userid, data in result:\n",
    "    for movieid, rating, timestamp in data[\"trainData\"]:\n",
    "        train.append((userid, movieid, rating, timestamp))\n",
    "    for movieid, rating, timestamp in data[\"testData\"]:\n",
    "        test.append((userid, movieid, rating, timestamp))"
   ]
  },
  {
   "cell_type": "code",
   "execution_count": 7,
   "metadata": {},
   "outputs": [
    {
     "name": "stdout",
     "output_type": "stream",
     "text": [
      "File văn bản đã được tạo tại: train.txt\n"
     ]
    }
   ],
   "source": [
    "# Đường dẫn đến file text\n",
    "text_file_path = \"train.txt\"\n",
    "\n",
    "# Ghi list vào file văn bản\n",
    "with open(text_file_path, mode='w') as file:\n",
    "    for item in train:\n",
    "        file.write(f\"{item}\\n\")\n",
    "\n",
    "print(f\"File văn bản đã được tạo tại: {text_file_path}\")"
   ]
  },
  {
   "cell_type": "code",
   "execution_count": 8,
   "metadata": {},
   "outputs": [
    {
     "name": "stdout",
     "output_type": "stream",
     "text": [
      "File văn bản đã được tạo tại: test.txt\n"
     ]
    }
   ],
   "source": [
    "# Đường dẫn đến file text\n",
    "text_file_path = \"test.txt\"\n",
    "\n",
    "# Ghi list vào file văn bản\n",
    "with open(text_file_path, mode='w') as file:\n",
    "    for item in test:\n",
    "        file.write(f\"{item}\\n\")\n",
    "\n",
    "print(f\"File văn bản đã được tạo tại: {text_file_path}\")"
   ]
  }
 ],
 "metadata": {
  "kernelspec": {
   "display_name": "Python 3",
   "language": "python",
   "name": "python3"
  },
  "language_info": {
   "codemirror_mode": {
    "name": "ipython",
    "version": 3
   },
   "file_extension": ".py",
   "mimetype": "text/x-python",
   "name": "python",
   "nbconvert_exporter": "python",
   "pygments_lexer": "ipython3",
   "version": "3.10.12"
  }
 },
 "nbformat": 4,
 "nbformat_minor": 2
}
